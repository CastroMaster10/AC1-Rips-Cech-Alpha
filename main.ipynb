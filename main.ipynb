{
 "cells": [
  {
   "cell_type": "markdown",
   "metadata": {},
   "source": [
    "## Notebook 1: Forma de los Datos"
   ]
  },
  {
   "cell_type": "markdown",
   "metadata": {},
   "source": [
    "## Filtracion de Complejos Simpliciales e Inferencia de los Datos"
   ]
  },
  {
   "cell_type": "markdown",
   "metadata": {},
   "source": [
    "### Importar librerias"
   ]
  },
  {
   "cell_type": "code",
   "execution_count": 9,
   "metadata": {},
   "outputs": [],
   "source": [
    "import pandas as pd\n",
    "import numpy as np\n",
    "import matplotlib.pyplot as plt\n",
    "from matplotlib import cm #Manejar colores\n",
    "from scipy.spatial.distance import squareform,pdist #Calcular matrices de distancias\n",
    "import matplotlib.patches as mpatches #Para hacer elipses\n",
    "from matplotlib.collections import PatchCollection #Hacer elipses\n",
    "import gudhi"
   ]
  },
  {
   "cell_type": "markdown",
   "metadata": {},
   "source": [
    "Vamos a trabajar con una base de datos pequeña de puntos en el plano. Vamos a ver como interpretar el arbol de simplejos. A su vez, se vera como filtrar los complejos simpliciales para inferir la forma de los datos"
   ]
  },
  {
   "cell_type": "code",
   "execution_count": 10,
   "metadata": {},
   "outputs": [
    {
     "name": "stdout",
     "output_type": "stream",
     "text": [
      "       a   b\n",
      "Point       \n",
      "P1     1   1\n",
      "P2     7   0\n",
      "P3     4   6\n",
      "P4     9   6\n",
      "P5     0  14\n",
      "P6     2  19\n",
      "P7     9  17\n"
     ]
    },
    {
     "data": {
      "image/png": "[encoded data removed]",
      "text/plain": [
       "<Figure size 576x432 with 1 Axes>"
      ]
     },
     "metadata": {
      "needs_background": "light"
     },
     "output_type": "display_data"
    }
   ],
   "source": [
    "a = [1,7,4,9,0,2,9]\n",
    "b = [1,0,6,6,14,19,17]\n",
    "\n",
    "\n",
    "point = [\"P1\",\"P2\",\"P3\",\"P4\",\"P5\",\"P6\",\"P7\"]\n",
    "\n",
    "data = pd.DataFrame({\"Point\": point,\"a\":a,\"b\": b})\n",
    "data =  data.set_index(\"Point\")\n",
    "print(data)\n",
    "\n",
    "plt.figure(figsize=(8,6))\n",
    "\n",
    "plt.scatter(data[\"a\"],data[\"b\"],c=\"r\",marker=\"*\")\n",
    "plt.xlabel(\"x\")\n",
    "plt.xlabel(\"y\")\n",
    "plt.title(\"Puntos\")\n",
    "\n",
    "for j in data.itertuples():\n",
    "    plt.annotate(j.Index,(j.a,j.b),fontsize=15)"
   ]
  },
  {
   "cell_type": "markdown",
   "metadata": {},
   "source": [
    "Del puro grafo, no podemos inferir que hay una forma precisa de los datos. Podemos acotar !!!"
   ]
  },
  {
   "cell_type": "code",
   "execution_count": 11,
   "metadata": {},
   "outputs": [
    {
     "data": {
      "text/html": [
       "<div>\n",
       "<style scoped>\n",
       "    .dataframe tbody tr th:only-of-type {\n",
       "        vertical-align: middle;\n",
       "    }\n",
       "\n",
       "    .dataframe tbody tr th {\n",
       "        vertical-align: top;\n",
       "    }\n",
       "\n",
       "    .dataframe thead th {\n",
       "        text-align: right;\n",
       "    }\n",
       "</style>\n",
       "<table border=\"1\" class=\"dataframe\">\n",
       "  <thead>\n",
       "    <tr style=\"text-align: right;\">\n",
       "      <th></th>\n",
       "      <th>P1</th>\n",
       "      <th>P2</th>\n",
       "      <th>P3</th>\n",
       "      <th>P4</th>\n",
       "      <th>P5</th>\n",
       "      <th>P6</th>\n",
       "      <th>P7</th>\n",
       "    </tr>\n",
       "  </thead>\n",
       "  <tbody>\n",
       "    <tr>\n",
       "      <th>P1</th>\n",
       "      <td>0.000000</td>\n",
       "      <td>6.082763</td>\n",
       "      <td>5.830952</td>\n",
       "      <td>9.433981</td>\n",
       "      <td>13.038405</td>\n",
       "      <td>18.027756</td>\n",
       "      <td>17.888544</td>\n",
       "    </tr>\n",
       "    <tr>\n",
       "      <th>P2</th>\n",
       "      <td>6.082763</td>\n",
       "      <td>0.000000</td>\n",
       "      <td>6.708204</td>\n",
       "      <td>6.324555</td>\n",
       "      <td>15.652476</td>\n",
       "      <td>19.646883</td>\n",
       "      <td>17.117243</td>\n",
       "    </tr>\n",
       "    <tr>\n",
       "      <th>P3</th>\n",
       "      <td>5.830952</td>\n",
       "      <td>6.708204</td>\n",
       "      <td>0.000000</td>\n",
       "      <td>5.000000</td>\n",
       "      <td>8.944272</td>\n",
       "      <td>13.152946</td>\n",
       "      <td>12.083046</td>\n",
       "    </tr>\n",
       "    <tr>\n",
       "      <th>P4</th>\n",
       "      <td>9.433981</td>\n",
       "      <td>6.324555</td>\n",
       "      <td>5.000000</td>\n",
       "      <td>0.000000</td>\n",
       "      <td>12.041595</td>\n",
       "      <td>14.764823</td>\n",
       "      <td>11.000000</td>\n",
       "    </tr>\n",
       "    <tr>\n",
       "      <th>P5</th>\n",
       "      <td>13.038405</td>\n",
       "      <td>15.652476</td>\n",
       "      <td>8.944272</td>\n",
       "      <td>12.041595</td>\n",
       "      <td>0.000000</td>\n",
       "      <td>5.385165</td>\n",
       "      <td>9.486833</td>\n",
       "    </tr>\n",
       "    <tr>\n",
       "      <th>P6</th>\n",
       "      <td>18.027756</td>\n",
       "      <td>19.646883</td>\n",
       "      <td>13.152946</td>\n",
       "      <td>14.764823</td>\n",
       "      <td>5.385165</td>\n",
       "      <td>0.000000</td>\n",
       "      <td>7.280110</td>\n",
       "    </tr>\n",
       "    <tr>\n",
       "      <th>P7</th>\n",
       "      <td>17.888544</td>\n",
       "      <td>17.117243</td>\n",
       "      <td>12.083046</td>\n",
       "      <td>11.000000</td>\n",
       "      <td>9.486833</td>\n",
       "      <td>7.280110</td>\n",
       "      <td>0.000000</td>\n",
       "    </tr>\n",
       "  </tbody>\n",
       "</table>\n",
       "</div>"
      ],
      "text/plain": [
       "           P1         P2         P3         P4         P5         P6  \\\n",
       "P1   0.000000   6.082763   5.830952   9.433981  13.038405  18.027756   \n",
       "P2   6.082763   0.000000   6.708204   6.324555  15.652476  19.646883   \n",
       "P3   5.830952   6.708204   0.000000   5.000000   8.944272  13.152946   \n",
       "P4   9.433981   6.324555   5.000000   0.000000  12.041595  14.764823   \n",
       "P5  13.038405  15.652476   8.944272  12.041595   0.000000   5.385165   \n",
       "P6  18.027756  19.646883  13.152946  14.764823   5.385165   0.000000   \n",
       "P7  17.888544  17.117243  12.083046  11.000000   9.486833   7.280110   \n",
       "\n",
       "           P7  \n",
       "P1  17.888544  \n",
       "P2  17.117243  \n",
       "P3  12.083046  \n",
       "P4  11.000000  \n",
       "P5   9.486833  \n",
       "P6   7.280110  \n",
       "P7   0.000000  "
      ]
     },
     "execution_count": 11,
     "metadata": {},
     "output_type": "execute_result"
    }
   ],
   "source": [
    "#Calculamos la matriz de Distancias Eucledianas\n",
    "\n",
    "dist = pd.DataFrame(squareform(pdist(data[[\"a\",\"b\"]]),\"euclidean\"),columns=data.index.values,index=data.index.values)\n",
    "dist"
   ]
  },
  {
   "cell_type": "markdown",
   "metadata": {},
   "source": [
    "Vemos que el diametro dee la base de datos (como espacio metrico finito) es de 19.646883. Por lo tanto, podemos acotar el parametro r en el complejo simplicial de Rips a 20 y con esto garantizamos que el ultimo complejo simplicial"
   ]
  },
  {
   "cell_type": "code",
   "execution_count": 18,
   "metadata": {},
   "outputs": [],
   "source": [
    "\n",
    "#Calculas la filtracion de Rips con un radio de 20\n",
    "rips_complex = gudhi.RipsComplex(points=data[['a', 'b']].values, max_edge_length=20.0)"
   ]
  },
  {
   "cell_type": "code",
   "execution_count": 19,
   "metadata": {},
   "outputs": [
    {
     "name": "stdout",
     "output_type": "stream",
     "text": [
      "Rips complex is of dimension2-63 simplices -7vertices.\n",
      "[0] -> 0.00\n",
      "[1] -> 0.00\n",
      "[2] -> 0.00\n",
      "[3] -> 0.00\n",
      "[4] -> 0.00\n",
      "[5] -> 0.00\n",
      "[6] -> 0.00\n",
      "[2, 3] -> 5.00\n",
      "[4, 5] -> 5.39\n",
      "[0, 2] -> 5.83\n",
      "[0, 1] -> 6.08\n",
      "[1, 3] -> 6.32\n",
      "[1, 2] -> 6.71\n",
      "[0, 1, 2] -> 6.71\n",
      "[1, 2, 3] -> 6.71\n",
      "[5, 6] -> 7.28\n",
      "[2, 4] -> 8.94\n",
      "[0, 3] -> 9.43\n",
      "[0, 1, 3] -> 9.43\n",
      "[0, 2, 3] -> 9.43\n",
      "[4, 6] -> 9.49\n",
      "[4, 5, 6] -> 9.49\n",
      "[3, 6] -> 11.00\n",
      "[3, 4] -> 12.04\n",
      "[2, 3, 4] -> 12.04\n",
      "[3, 4, 6] -> 12.04\n",
      "[2, 6] -> 12.08\n",
      "[2, 3, 6] -> 12.08\n",
      "[2, 4, 6] -> 12.08\n",
      "[0, 4] -> 13.04\n",
      "[0, 2, 4] -> 13.04\n",
      "[0, 3, 4] -> 13.04\n",
      "[2, 5] -> 13.15\n",
      "[2, 4, 5] -> 13.15\n",
      "[2, 5, 6] -> 13.15\n",
      "[3, 5] -> 14.76\n",
      "[2, 3, 5] -> 14.76\n",
      "[3, 4, 5] -> 14.76\n",
      "[3, 5, 6] -> 14.76\n",
      "[1, 4] -> 15.65\n",
      "[0, 1, 4] -> 15.65\n",
      "[1, 2, 4] -> 15.65\n",
      "[1, 3, 4] -> 15.65\n",
      "[1, 6] -> 17.12\n",
      "[1, 2, 6] -> 17.12\n",
      "[1, 3, 6] -> 17.12\n",
      "[1, 4, 6] -> 17.12\n",
      "[0, 6] -> 17.89\n",
      "[0, 1, 6] -> 17.89\n",
      "[0, 2, 6] -> 17.89\n",
      "[0, 3, 6] -> 17.89\n",
      "[0, 4, 6] -> 17.89\n",
      "[0, 5] -> 18.03\n",
      "[0, 2, 5] -> 18.03\n",
      "[0, 3, 5] -> 18.03\n",
      "[0, 4, 5] -> 18.03\n",
      "[0, 5, 6] -> 18.03\n",
      "[1, 5] -> 19.65\n",
      "[0, 1, 5] -> 19.65\n",
      "[1, 2, 5] -> 19.65\n",
      "[1, 3, 5] -> 19.65\n",
      "[1, 4, 5] -> 19.65\n",
      "[1, 5, 6] -> 19.65\n"
     ]
    }
   ],
   "source": [
    "#Generamos el arbol de complejos simpliciales e imprimimos la informacion\n",
    "simplex_tree = rips_complex.create_simplex_tree(max_dimension=2)\n",
    "result_str = 'Rips complex is of dimension' +repr(simplex_tree.dimension())+'-'+\\\n",
    "    repr(simplex_tree.num_simplices())+' simplices -' +\\\n",
    "    repr(simplex_tree.num_vertices())+'vertices.'\n",
    "print(result_str)\n",
    "fmt='%s -> %.2f'\n",
    "for filtered_value in simplex_tree.get_filtration():\n",
    "    print(fmt % tuple(filtered_value))"
   ]
  },
  {
   "cell_type": "code",
   "execution_count": 22,
   "metadata": {},
   "outputs": [],
   "source": [
    "def plot_rips_complex(data, R, label=\"data\", col=1, maxdim=2):\n",
    "    tab10 = cm.get_cmap('tab10')\n",
    "\n",
    "    fig, ax = plt.subplots(figsize=(6, 6))\n",
    "    ax.set_title(label)\n",
    "    ax.scatter(\n",
    "        data[:, 0], data[:, 1], label=label,\n",
    "        s=8, alpha=0.9, c=np.array(tab10([col] * len(data)))\n",
    "    )\n",
    "\n",
    "    for xy in data:\n",
    "        ax.add_patch(mpatches.Circle(xy, radius=R, fc='none', ec=tab10(col), alpha=0.2))\n",
    "\n",
    "    for i, xy in enumerate(data):\n",
    "        if maxdim >=1:\n",
    "            for j in range(i + 1, len(data)):\n",
    "                pq = data[j]\n",
    "                if (xy != pq).all() and (np.linalg.norm(xy - pq) <= R):\n",
    "                    pts = np.array([xy, pq])\n",
    "                    ax.plot(pts[:, 0], pts[:, 1], color=tab10(col), alpha=0.6, linewidth=1)\n",
    "                if maxdim == 2:\n",
    "                    for k in range(j + 1, len(data)):\n",
    "                        ab = data[k]\n",
    "                        if ((ab != pq).all()\n",
    "                                and (np.linalg.norm(xy - pq) <= R)\n",
    "                                and (np.linalg.norm(xy - ab) <= R)\n",
    "                                and (np.linalg.norm(pq - ab) <= R)\n",
    "                        ):\n",
    "                            pts = np.array([xy, pq, ab])\n",
    "                            ax.fill(pts[:, 0], pts[:, 1], facecolor=tab10(col), alpha=0.1)\n",
    "                        pass\n",
    "\n",
    "    plt.axis('equal')\n",
    "    plt.tight_layout()\n",
    "    plt.show()\n",
    "    pass"
   ]
  },
  {
   "cell_type": "code",
   "execution_count": 23,
   "metadata": {},
   "outputs": [
    {
     "data": {
      "image/png": "[encoded data removed]",
      "text/plain": [
       "<Figure size 432x432 with 1 Axes>"
      ]
     },
     "metadata": {
      "needs_background": "light"
     },
     "output_type": "display_data"
    }
   ],
   "source": [
    "X = data[['a', 'b']].values\n",
    "plot_rips_complex(X, R=0.25,label='X',maxdim=1)"
   ]
  }
 ],
 "metadata": {
  "kernelspec": {
   "display_name": "base",
   "language": "python",
   "name": "python3"
  },
  "language_info": {
   "codemirror_mode": {
    "name": "ipython",
    "version": 3
   },
   "file_extension": ".py",
   "mimetype": "text/x-python",
   "name": "python",
   "nbconvert_exporter": "python",
   "pygments_lexer": "ipython3",
   "version": "3.9.12"
  }
 },
 "nbformat": 4,
 "nbformat_minor": 2
}
